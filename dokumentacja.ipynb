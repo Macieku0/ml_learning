{
 "cells": [
  {
   "cell_type": "markdown",
   "metadata": {},
   "source": [
    "## Założenia biznesowe"
   ]
  },
  {
   "cell_type": "markdown",
   "metadata": {},
   "source": [
    "#### Warunki do spełnienia przez system klasyfikacji typów kosztów oraz rozpoznawania linii kosztowychM<br>\n",
    "1. Jaki jest dopuszczalny całkowity czas opóźnienia (od momentu wysłania zapytania do API do momentu otrzymania odpowiedzi)?\n",
    "    - Czy system powinien być utrzymywany na wzbudzeniu -> jaka jest częstoliwość odpytań w ciągu dnia?<br>\n",
    "    - W jaki sposób mierzyć opóźnienie -> średnia z określonej liczby próbek, mediana zapytań w ciągu miesiąca, 80-90 percentyl?<br>\n",
    "2. Jaka powinna być przepustowość systemu?\n",
    "    - Czy w systemie występują godziny szczytu?<br>\n",
    "    - Jaka jest średnia ilośc zapytań generowana na godzinę -> powiązane z opóźnieniem<br>\n"
   ]
  },
  {
   "cell_type": "markdown",
   "metadata": {},
   "source": [
    "#### Monitorowanie wyników systemu\n",
    "1. W jaki sposób będziemy monitorować poprawność wyników klasyfikacji?\n",
    "    - Czy jest możliwość sprawdzania czy użytkownik kontynuował wniosek z zaproponowanym przez system typem kosztu i klasyfikacja?\n",
    "    - Kiedy generowany jest numer wniosku oraz GUID dokumentu?"
   ]
  }
 ],
 "metadata": {
  "language_info": {
   "name": "python"
  },
  "orig_nbformat": 4
 },
 "nbformat": 4,
 "nbformat_minor": 2
}
